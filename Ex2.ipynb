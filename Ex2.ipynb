{
 "cells": [
  {
   "cell_type": "markdown",
   "metadata": {},
   "source": [
    "# Secure Software Engineering Exercise 2"
   ]
  },
  {
   "cell_type": "code",
   "execution_count": 1,
   "metadata": {},
   "outputs": [],
   "source": [
    "import numpy as np\n",
    "import pandas as pd\n",
    "import os\n",
    "\n",
    "# Specify git executable file for GitPython in Jupyter Notebook (In IDE, it can still work without this line.)\n",
    "# os.environ[\"GIT_PYTHON_GIT_EXECUTABLE\"] = \"C:\\Program Files\\Git\\cmd\\git.exe\"\n",
    "\n",
    "import git\n",
    "import re\n",
    "# from git import RemoteProgress\n",
    "\n",
    "from git import Repo\n",
    "import matplotlib.pyplot as plt\n",
    "import seaborn as sns\n",
    "%matplotlib inline"
   ]
  },
  {
   "cell_type": "markdown",
   "metadata": {},
   "source": [
    "## 1. apache/spark\n",
    "CVE-ID - CVE-2017-12612<br/>\n",
    "Project Link:https://github.com/apache/spark<br/>\n",
    "Commit:4cba3b5a350f4d477466fc73b32cbd653eee840"
   ]
  },
  {
   "cell_type": "markdown",
   "metadata": {},
   "source": [
    "### a) What was the message and title of the fixing commit? "
   ]
  },
  {
   "cell_type": "code",
   "execution_count": 23,
   "metadata": {},
   "outputs": [
    {
     "name": "stdout",
     "output_type": "stream",
     "text": [
      "Commit Title:\u001b[0m    [SPARK-20922][CORE] Add whitelist of classes that can be deserialized by the launcher.\n",
      "Commit Message:\n",
      "    Blindly deserializing classes using Java serialization opens the code up to\n",
      "    issues in other libraries, since just deserializing data from a stream may\n",
      "    end up execution code (think readObject()).\n",
      "    \n",
      "    Since the launcher protocol is pretty self-contained, there's just a handful\n",
      "    of classes it legitimately needs to deserialize, and they're in just two\n",
      "    packages, so add a filter that throws errors if classes from any other\n",
      "    package show up in the stream.\n",
      "    \n",
      "    This also maintains backwards compatibility (the updated launcher code can\n",
      "    still communicate with the backend code in older Spark releases).\n",
      "    \n",
      "    Tested with new and existing unit tests.\n"
     ]
    }
   ],
   "source": [
    "import pprint as pprint\n",
    "remote_link = \"https://github.com/apache/spark\"\n",
    "local_link = \"spark\"\n",
    "fixing_commit = \"4cba3b5a350f4d477466fc73b32cbd653eee840\"\n",
    "\n",
    "repo = Repo(local_link)\n",
    "show_data = repo.git.show(\"--shortstat\", fixing_commit).splitlines()\n",
    "commit = repo.commit(fixing_commit)\n",
    "print(\"Commit Title:\"+'\\x1b[0m'+show_data[4])\n",
    "print(\"Commit Message:\")\n",
    "for index in range(len(show_data)):\n",
    "    if index>5 and index<19:\n",
    "        print(show_data[index])"
   ]
  },
  {
   "cell_type": "markdown",
   "metadata": {},
   "source": [
    "### b) How many total files were affected in the fixing commit?"
   ]
  },
  {
   "cell_type": "code",
   "execution_count": 21,
   "metadata": {},
   "outputs": [
    {
     "name": "stdout",
     "output_type": "stream",
     "text": [
      "Affected Files:3\n"
     ]
    }
   ],
   "source": [
    "stats = commit.stats\n",
    "\n",
    "print(\"Affected Files:\"+ str(stats.total[\"files\"]))"
   ]
  },
  {
   "cell_type": "markdown",
   "metadata": {},
   "source": [
    "### c) How many total directories were affected in the fixing commit? "
   ]
  },
  {
   "cell_type": "code",
   "execution_count": 22,
   "metadata": {},
   "outputs": [
    {
     "name": "stdout",
     "output_type": "stream",
     "text": [
      "2 Directories affected: \n",
      "launcher/src/main/java/org/apache/spark/launcher/\n",
      "launcher/src/test/java/org/apache/spark/launcher/\n"
     ]
    }
   ],
   "source": [
    "totalDirAffected = repo.git.show(\"--dirstat\", fixing_commit).splitlines()\n",
    "affectedDir = []\n",
    "for info in totalDirAffected:\n",
    "    if \"% \" in info:\n",
    "        affectedDir.append(info[info.find(\"% \")+2:])\n",
    "print(len(affectedDir),\"Directories affected: \")\n",
    "for pline in affectedDir:\n",
    "    print(pline)"
   ]
  },
  {
   "cell_type": "markdown",
   "metadata": {},
   "source": [
    "### d) How many total lines of code(including comments and blank lines)  were deleted? "
   ]
  },
  {
   "cell_type": "code",
   "execution_count": 23,
   "metadata": {},
   "outputs": [
    {
     "name": "stdout",
     "output_type": "stream",
     "text": [
      "Deleted lines(including comment and blank lines): 27 \n"
     ]
    }
   ],
   "source": [
    "diffData = repo.git.show(\"--stat\", fixing_commit).splitlines()\n",
    "#for line in diffData:\n",
    "#    print(line)\n",
    "print(\"Deleted lines(including comment and blank lines):\"+diffData[30][36:40])\n"
   ]
  },
  {
   "cell_type": "markdown",
   "metadata": {},
   "source": [
    "### e) How many total lines of code(including comments and blank lines)  were added? "
   ]
  },
  {
   "cell_type": "code",
   "execution_count": 24,
   "metadata": {},
   "outputs": [
    {
     "name": "stdout",
     "output_type": "stream",
     "text": [
      "Inserted lines(including comment and blank lines): 121\n"
     ]
    }
   ],
   "source": [
    "diffData = repo.git.show(\"--stat\", fixing_commit).splitlines()\n",
    "#for line in diffData:\n",
    "#    print(line)\n",
    "print(\"Inserted lines(including comment and blank lines):\"+diffData[30][17:21])"
   ]
  },
  {
   "cell_type": "markdown",
   "metadata": {},
   "source": [
    "### f) How many total lines of code(excluding comments and blank lines)  were deleted? "
   ]
  },
  {
   "cell_type": "code",
   "execution_count": 25,
   "metadata": {},
   "outputs": [
    {
     "name": "stdout",
     "output_type": "stream",
     "text": [
      "Deleted lines(excluding comments and blank lines):23\n"
     ]
    }
   ],
   "source": [
    "diffData = repo.git.diff(\"-w\",fixing_commit + \"^\", fixing_commit).splitlines()\n",
    "comment = False\n",
    "count = 0\n",
    "for line in diffData:\n",
    "    if(not line[0:3] == '---'):\n",
    "        if(line.find('/*') != -1):\n",
    "            comment = True\n",
    "            continue\n",
    "        elif(line.find('*/') != -1):\n",
    "            comment = False\n",
    "            continue\n",
    "        if(comment==False):\n",
    "            if(line[0:1] == '-' and not re.search(r'\\s', line) is None):\n",
    "                if(line.find('//') == -1):\n",
    "                    count=count+1\n",
    "print(\"Deleted lines(excluding comments and blank lines):\"+ str(count))"
   ]
  },
  {
   "cell_type": "markdown",
   "metadata": {},
   "source": [
    "### g) How many total lines of code(excluding comments and blank lines)  were added?"
   ]
  },
  {
   "cell_type": "code",
   "execution_count": 26,
   "metadata": {},
   "outputs": [
    {
     "name": "stdout",
     "output_type": "stream",
     "text": [
      "Inserted lines(excluding comments and blank lines):77\n"
     ]
    }
   ],
   "source": [
    "diffData = repo.git.diff(\"-w\",fixing_commit + \"^\", fixing_commit).splitlines()\n",
    "comment = False\n",
    "count = 0\n",
    "for line in diffData:\n",
    "    if(not line[0:3] == '+++'):\n",
    "        if(line.find('/*') != -1):\n",
    "            comment = True\n",
    "            continue\n",
    "        elif(line.find('*/') != -1):\n",
    "            comment = False\n",
    "            continue\n",
    "        if(comment==False):\n",
    "            if(line[0:1] == '+' and not re.search(r'\\s', line) is None):\n",
    "                if(line.find('//') == -1):\n",
    "                    count=count+1\n",
    "print(\"Inserted lines(excluding comments and blank lines):\"+ str(count))"
   ]
  },
  {
   "cell_type": "markdown",
   "metadata": {},
   "source": [
    "### h)  How many days were between the current fixing commit and the previous commit of each affected file? "
   ]
  },
  {
   "cell_type": "code",
   "execution_count": 27,
   "metadata": {},
   "outputs": [
    {
     "name": "stdout",
     "output_type": "stream",
     "text": [
      "File: launcher/src/main/java/org/apache/spark/launcher/FilteredObjectInputStream.java\n",
      "Current Commit Time: 2017-06-01 14:44:34\n",
      "This file only has one commit.\n",
      "----------------------\n",
      "File: launcher/src/main/java/org/apache/spark/launcher/LauncherConnection.java\n",
      "Current Commit Time: 2017-06-01 14:44:34\n",
      "Previous Commit Time: 2015-10-09 15:28:09\n",
      "Time Difference: 600 days, 23:16:25\n",
      "----------------------\n",
      "File: launcher/src/test/java/org/apache/spark/launcher/LauncherServerSuite.java\n",
      "Current Commit Time: 2017-06-01 14:44:34\n",
      "Previous Commit Time: 2016-06-06 16:05:40\n",
      "Time Difference: 359 days, 22:38:54\n",
      "----------------------\n"
     ]
    }
   ],
   "source": [
    "from datetime import datetime\n",
    "from datetime import date\n",
    "\n",
    "for file in s.files:   \n",
    "    print(\"File: \"+file)\n",
    "    log_data = repo.git.log(fixing_commit,file).splitlines()\n",
    "    commitID = 0\n",
    "    date1 = datetime.now()\n",
    "    date2 = datetime.now()\n",
    "    for line in log_data:\n",
    "        if(line[0:8] == \"Date:   \"):\n",
    "            commitID=commitID+1\n",
    "            if(commitID ==1):\n",
    "                date1 = datetime.strptime(line[8:31], '%a %b %d %H:%M:%S %Y')\n",
    "                print(\"Current Commit Time: \"+str(date1))\n",
    "                continue\n",
    "            if(commitID ==2):\n",
    "                date2 = datetime.strptime(line[8:31], '%a %b %d %H:%M:%S %Y')\n",
    "                print(\"Previous Commit Time: \"+str(date2))\n",
    "                break\n",
    "    if(commitID == 1):\n",
    "        print(\"This file only has one commit.\")\n",
    "        print(\"----------------------\")\n",
    "    else:\n",
    "        print(\"Time Difference: \"+str(date1-date2))\n",
    "        print(\"----------------------\")"
   ]
  },
  {
   "cell_type": "markdown",
   "metadata": {},
   "source": [
    "### i)  How many time has each affected file of the current fixing commit been modified in the past since their creation?  "
   ]
  },
  {
   "cell_type": "code",
   "execution_count": 28,
   "metadata": {},
   "outputs": [
    {
     "name": "stdout",
     "output_type": "stream",
     "text": [
      "File: launcher/src/main/java/org/apache/spark/launcher/FilteredObjectInputStream.java\n",
      "Times of modification(including renaming): 1\n",
      "-------------------------------\n",
      "File: launcher/src/main/java/org/apache/spark/launcher/LauncherConnection.java\n",
      "Times of modification(including renaming): 2\n",
      "-------------------------------\n",
      "File: launcher/src/test/java/org/apache/spark/launcher/LauncherServerSuite.java\n",
      "Times of modification(including renaming): 10\n",
      "-------------------------------\n"
     ]
    }
   ],
   "source": [
    "for file in stats.files:   \n",
    "    print(\"File: \"+file)\n",
    "    log_data = repo.git.log(fixing_commit,\"--pretty=\\\"format:%H%M%S\\\"\", \"--\",file).splitlines()\n",
    "    print(\"Times of modification(including renaming): \"+str(len(log_data)))\n",
    "    print(\"-------------------------------\")"
   ]
  },
  {
   "cell_type": "markdown",
   "metadata": {},
   "source": [
    "### j)  Which developers have modified each affected file since its creation? "
   ]
  },
  {
   "cell_type": "code",
   "execution_count": 29,
   "metadata": {
    "scrolled": true
   },
   "outputs": [
    {
     "name": "stdout",
     "output_type": "stream",
     "text": [
      "File: launcher/src/main/java/org/apache/spark/launcher/FilteredObjectInputStream.java\n",
      "Contributors: \n",
      "Marcelo Vanzin\n",
      "\n",
      "File: launcher/src/main/java/org/apache/spark/launcher/LauncherConnection.java\n",
      "Contributors: \n",
      "Marcelo Vanzin\n",
      "\n",
      "File: launcher/src/test/java/org/apache/spark/launcher/LauncherServerSuite.java\n",
      "Contributors: \n",
      "Dongjoon Hyun\n",
      "Marcelo Vanzin\n",
      "Reynold Xin\n",
      "Sean Owen\n",
      "Subroto Sanyal\n",
      "\n"
     ]
    }
   ],
   "source": [
    "for file in stats.files:   \n",
    "    print(\"File: \"+file) \n",
    "    log_data = repo.git.log(fixing_commit,\"--pretty=format:%an\", \"--follow\", \"--\",file).splitlines()\n",
    "    x = np.array(log_data) \n",
    "    uniqueNames = np.unique(x)\n",
    "    print(\"Contributors: \")\n",
    "    for name in uniqueNames:\n",
    "        print(name) \n",
    "    print()"
   ]
  },
  {
   "cell_type": "markdown",
   "metadata": {},
   "source": [
    "### k) For each developer identified, how many commits have each of them submitted? From your observation, are the involving developers experienced or new ones or both?"
   ]
  },
  {
   "cell_type": "code",
   "execution_count": 30,
   "metadata": {
    "scrolled": true
   },
   "outputs": [
    {
     "name": "stdout",
     "output_type": "stream",
     "text": [
      "commitTimes\t\tauthor\n",
      "  1079\t\tReynold Xin <rxin@databricks.com>\n",
      "   623\t\tSean Owen <sowen@cloudera.com>\n",
      "   581\t\tMarcelo Vanzin <vanzin@cloudera.com>\n",
      "   576\t\tReynold Xin <rxin@apache.org>\n",
      "   571\t\tDongjoon Hyun <dongjoon@apache.org>\n",
      "   203\t\tReynold Xin <rxin@cs.berkeley.edu>\n",
      "   147\t\tSean Owen <sean.owen@databricks.com>\n",
      "   124\t\tDongjoon Hyun <dhyun@apple.com>\n",
      "    84\t\tReynold Xin <reynoldx@gmail.com>\n",
      "    43\t\tSean Owen <srowen@gmail.com>\n",
      "    14\t\tMarcelo Vanzin <vanzin@apache.org>\n",
      "     5\t\tSubroto Sanyal <ssanyal@datameer.com>\n"
     ]
    }
   ],
   "source": [
    "all_developers = repo.git.shortlog(\"-sne\", \"--all\").splitlines()\n",
    "\n",
    "author_commits = []\n",
    "identifiedDev = []\n",
    "for file in stats.files:   \n",
    "    #print(\"File: \"+file) \n",
    "    log_data = repo.git.log(fixing_commit,\"--pretty=format:%an\", \"--follow\", \"--\",file).splitlines()\n",
    "    x = np.array(log_data) \n",
    "    uniqueNames = np.unique(x)\n",
    "    #print(\"Contributors: \")\n",
    "    for name in uniqueNames:\n",
    "        identifiedDev.append(name) \n",
    "dev = list(set(identifiedDev))\n",
    "print(\"commitTimes\"+\"\\t\\t\"+\"author\")\n",
    "for developer in all_developers:\n",
    "    #print(developer)\n",
    "    commitTimes, author = developer.split(\"\\t\")\n",
    "    for tem in dev:\n",
    "        if tem in author:\n",
    "            print(commitTimes+\"\\t\\t\"+author)\n"
   ]
  },
  {
   "cell_type": "markdown",
   "metadata": {},
   "source": [
    "## 2. FasterXML/jackson-databind\n",
    "CVE-ID - CVE-2012-1621<br/>\n",
    "Project Link:  https://github.com/FasterXML/jackson-databind<br/>\n",
    "Commit:  ddfddfba6414adbecaff99684ef66eebd3a92e92"
   ]
  },
  {
   "cell_type": "markdown",
   "metadata": {},
   "source": [
    "### a) What was the message and title of the fixing commit? "
   ]
  },
  {
   "cell_type": "code",
   "execution_count": 31,
   "metadata": {},
   "outputs": [
    {
     "name": "stdout",
     "output_type": "stream",
     "text": [
      "Commit Title:    Fix #1737\n",
      "Commit Message:\n"
     ]
    }
   ],
   "source": [
    "import pprint as pprint\n",
    "remote_link = \"https://github.com/FasterXML/jackson-databind\"\n",
    "local_link = \"jackson-databind\"\n",
    "fixing_commit = \"ddfddfba6414adbecaff99684ef66eebd3a92e92\"\n",
    "\n",
    "repo = Repo(local_link)\n",
    "show_data = repo.git.show(\"--shortstat\", fixing_commit).splitlines()\n",
    "commit = repo.commit(fixing_commit)\n",
    "print(\"Commit Title:\"+show_data[4])\n",
    "print(\"Commit Message:\"+show_data[5])"
   ]
  },
  {
   "cell_type": "markdown",
   "metadata": {},
   "source": [
    "### b) How many total files were affected in the fixing commit?"
   ]
  },
  {
   "cell_type": "code",
   "execution_count": 32,
   "metadata": {},
   "outputs": [
    {
     "name": "stdout",
     "output_type": "stream",
     "text": [
      "Affected Files:3\n"
     ]
    }
   ],
   "source": [
    "commit = repo.commit(fixing_commit)\n",
    "stats = commit.stats\n",
    "\n",
    "print(\"Affected Files:\"+ str(stats.total[\"files\"]))"
   ]
  },
  {
   "cell_type": "markdown",
   "metadata": {},
   "source": [
    "### c) How many total directories were affected in the fixing commit? "
   ]
  },
  {
   "cell_type": "code",
   "execution_count": 33,
   "metadata": {},
   "outputs": [
    {
     "name": "stdout",
     "output_type": "stream",
     "text": [
      "2 Directories affected: \n",
      "src/main/java/com/fasterxml/jackson/databind/deser/\n",
      "src/test/java/com/fasterxml/jackson/databind/interop/\n"
     ]
    }
   ],
   "source": [
    "totalDirAffected = repo.git.show(\"--dirstat\", fixing_commit).splitlines()\n",
    "affectedDir = []\n",
    "for info in totalDirAffected:\n",
    "    if \"% \" in info:\n",
    "        affectedDir.append(info[info.find(\"% \")+2:])\n",
    "print(len(affectedDir),\"Directories affected: \")\n",
    "for pline in affectedDir:\n",
    "    print(pline)"
   ]
  },
  {
   "cell_type": "markdown",
   "metadata": {},
   "source": [
    "### d) How many total lines of code(including comments and blank lines)  were deleted? "
   ]
  },
  {
   "cell_type": "code",
   "execution_count": 34,
   "metadata": {},
   "outputs": [
    {
     "name": "stdout",
     "output_type": "stream",
     "text": [
      "Deleted lines(including comment and blank lines): 6 \n"
     ]
    }
   ],
   "source": [
    "diffData = repo.git.show(\"--stat\", fixing_commit).splitlines()\n",
    "#for line in diffData:\n",
    "#    print(line)\n",
    "print(\"Deleted lines(including comment and blank lines):\"+diffData[9][36:39])\n"
   ]
  },
  {
   "cell_type": "markdown",
   "metadata": {},
   "source": [
    "### e) How many total lines of code(including comments and blank lines)  were added? "
   ]
  },
  {
   "cell_type": "code",
   "execution_count": 35,
   "metadata": {},
   "outputs": [
    {
     "name": "stdout",
     "output_type": "stream",
     "text": [
      "Inserted lines(including comment and blank lines): 100\n"
     ]
    }
   ],
   "source": [
    "diffData = repo.git.show(\"--stat\", fixing_commit).splitlines()\n",
    "#for line in diffData:\n",
    "#    print(line)\n",
    "print(\"Inserted lines(including comment and blank lines):\"+diffData[9][17:21])"
   ]
  },
  {
   "cell_type": "markdown",
   "metadata": {},
   "source": [
    "### f) How many total lines of code(excluding comments and blank lines)  were deleted? "
   ]
  },
  {
   "cell_type": "code",
   "execution_count": 36,
   "metadata": {},
   "outputs": [
    {
     "name": "stdout",
     "output_type": "stream",
     "text": [
      "Deleted lines(excluding comments and blank lines):4\n"
     ]
    }
   ],
   "source": [
    "diffData = repo.git.diff(\"-w\",fixing_commit + \"^\", fixing_commit).splitlines()\n",
    "comment = False\n",
    "count = 0\n",
    "for line in diffData:\n",
    "    if(not line[0:3] == '---'):\n",
    "        if(line.find('/*') != -1):\n",
    "            comment = True\n",
    "            continue\n",
    "        elif(line.find('*/') != -1):\n",
    "            comment = False\n",
    "            continue\n",
    "        if(comment==False):\n",
    "            if(line[0:1] == '-' and not re.search(r'\\s', line) is None):\n",
    "                if(line.find('//') == -1):\n",
    "                    count=count+1\n",
    "print(\"Deleted lines(excluding comments and blank lines):\"+ str(count))"
   ]
  },
  {
   "cell_type": "markdown",
   "metadata": {},
   "source": [
    "### g) How many total lines of code(excluding comments and blank lines)  were added?"
   ]
  },
  {
   "cell_type": "code",
   "execution_count": 37,
   "metadata": {},
   "outputs": [
    {
     "name": "stdout",
     "output_type": "stream",
     "text": [
      "Inserted lines(excluding comments and blank lines):54\n"
     ]
    }
   ],
   "source": [
    "diffData = repo.git.diff(\"-w\",fixing_commit + \"^\", fixing_commit).splitlines()\n",
    "comment = False\n",
    "count = 0\n",
    "for line in diffData:\n",
    "    if(not line[0:3] == '+++'):\n",
    "        if(line.find('/*') != -1):\n",
    "            comment = True\n",
    "            continue\n",
    "        elif(line.find('*/') != -1):\n",
    "            comment = False\n",
    "            continue\n",
    "        if(comment==False):\n",
    "            if(line[0:1] == '+' and not re.search(r'\\s', line) is None):\n",
    "                if(line.find('//') == -1):\n",
    "                    count=count+1\n",
    "print(\"Inserted lines(excluding comments and blank lines):\"+ str(count))"
   ]
  },
  {
   "cell_type": "markdown",
   "metadata": {},
   "source": [
    "### h)  How many days were between the current fixing commit and the previous commit of each affected file? "
   ]
  },
  {
   "cell_type": "code",
   "execution_count": 52,
   "metadata": {},
   "outputs": [
    {
     "name": "stdout",
     "output_type": "stream",
     "text": [
      "File: release-notes/VERSION\n",
      "Current Commit Time: 2017-08-17 15:12:47-07:00\n",
      "Previous Commit Time: 2017-08-17 13:44:18-07:00\n",
      "Time Difference: 1:28:29\n",
      "----------------------\n",
      "File: src/main/java/com/fasterxml/jackson/databind/deser/BeanDeserializerFactory.java\n",
      "Current Commit Time: 2017-08-17 15:12:47-07:00\n",
      "Previous Commit Time: 2017-06-30 09:31:02-07:00\n",
      "Time Difference: 48 days, 5:41:45\n",
      "----------------------\n",
      "File: src/test/java/com/fasterxml/jackson/databind/interop/IllegalTypesCheckTest.java\n",
      "Current Commit Time: 2017-08-17 15:12:47-07:00\n",
      "Previous Commit Time: 2017-04-13 15:08:10-07:00\n",
      "Time Difference: 126 days, 0:04:37\n",
      "----------------------\n"
     ]
    }
   ],
   "source": [
    "from datetime import datetime\n",
    "from datetime import date\n",
    "for file in stats.files:   \n",
    "    print(\"File: \"+file)\n",
    "    log_data = repo.git.log(fixing_commit,file).splitlines()\n",
    "    commitID = 0\n",
    "    date1 = datetime.now()\n",
    "    date2 = datetime.now()\n",
    "    for line in log_data:\n",
    "        if(line[0:8] == \"Date:   \"):\n",
    "            commitID=commitID+1\n",
    "            if(commitID ==1):\n",
    "                date1 = datetime.strptime(line[8:38], '%a %b %d %H:%M:%S %Y %z')\n",
    "                print(\"Current Commit Time: \"+str(date1))\n",
    "                continue\n",
    "            if(commitID ==2):\n",
    "                date2 = datetime.strptime(line[8:38], '%a %b %d %H:%M:%S %Y %z')\n",
    "                print(\"Previous Commit Time: \"+str(date2))\n",
    "                break\n",
    "    if(commitID == 1):\n",
    "        print(\"This file only has one commit.\")\n",
    "        print(\"----------------------\")\n",
    "    else:\n",
    "        print(\"Time Difference: \"+str(date1-date2))\n",
    "        print(\"----------------------\")"
   ]
  },
  {
   "cell_type": "markdown",
   "metadata": {},
   "source": [
    "### i)  How many time has each affected file of the current fixing commit been modified in the past since their creation?  "
   ]
  },
  {
   "cell_type": "code",
   "execution_count": 54,
   "metadata": {},
   "outputs": [
    {
     "name": "stdout",
     "output_type": "stream",
     "text": [
      "File: release-notes/VERSION\n",
      "Times of modification(including renaming): 865\n",
      "-------------------------------\n",
      "File: src/main/java/com/fasterxml/jackson/databind/deser/BeanDeserializerFactory.java\n",
      "Times of modification(including renaming): 126\n",
      "-------------------------------\n",
      "File: src/test/java/com/fasterxml/jackson/databind/interop/IllegalTypesCheckTest.java\n",
      "Times of modification(including renaming): 2\n",
      "-------------------------------\n"
     ]
    }
   ],
   "source": [
    "for file in stats.files:   \n",
    "    print(\"File: \"+file)\n",
    "    log_data = repo.git.log(fixing_commit,\"--pretty=\\\"format:%H%M%S\\\"\", \"--\",file).splitlines()\n",
    "    print(\"Times of modification(including renaming): \"+str(len(log_data)))\n",
    "    print(\"-------------------------------\")"
   ]
  },
  {
   "cell_type": "markdown",
   "metadata": {},
   "source": [
    "### j)  Which developers have modified each affected file since its creation? "
   ]
  },
  {
   "cell_type": "code",
   "execution_count": 56,
   "metadata": {
    "scrolled": true
   },
   "outputs": [
    {
     "name": "stdout",
     "output_type": "stream",
     "text": [
      "File: release-notes/VERSION\n",
      "Contributors: \n",
      "Cowtowncoder\n",
      "Tatu\n",
      "Tatu Saloranta\n",
      "jackphel\n",
      "\n",
      "File: src/main/java/com/fasterxml/jackson/databind/deser/BeanDeserializerFactory.java\n",
      "Contributors: \n",
      "Cowtowncoder\n",
      "LokeshN\n",
      "Pascal Gélinas\n",
      "Tatu\n",
      "Tatu Saloranta\n",
      "\n",
      "File: src/test/java/com/fasterxml/jackson/databind/interop/IllegalTypesCheckTest.java\n",
      "Contributors: \n",
      "Tatu Saloranta\n",
      "\n"
     ]
    }
   ],
   "source": [
    "for file in stats.files:   \n",
    "    print(\"File: \"+file) \n",
    "    log_data = repo.git.log(fixing_commit,\"--pretty=format:%an\", \"--follow\", \"--\",file).splitlines()\n",
    "    x = np.array(log_data) \n",
    "    uniqueNames = np.unique(x)\n",
    "    print(\"Contributors: \")\n",
    "    for name in uniqueNames:\n",
    "        print(name) \n",
    "    print()"
   ]
  },
  {
   "cell_type": "markdown",
   "metadata": {},
   "source": [
    "### k) For each developer identified, how many commits have each of them submitted? From your observation, are the involving developers experienced or new ones or both?"
   ]
  },
  {
   "cell_type": "code",
   "execution_count": 58,
   "metadata": {
    "scrolled": true
   },
   "outputs": [
    {
     "name": "stdout",
     "output_type": "stream",
     "text": [
      "commitTimes\t\tauthor\n",
      "  3600\t\tTatu Saloranta <tatu.saloranta@iki.fi>\n",
      "  3600\t\tTatu Saloranta <tatu.saloranta@iki.fi>\n",
      "  1028\t\tTatu Saloranta <tsaloranta@gmail.com>\n",
      "  1028\t\tTatu Saloranta <tsaloranta@gmail.com>\n",
      "   454\t\tCowtowncoder <tatu.saloranta@iki.fi>\n",
      "    78\t\tTatu <tatu@ning.com>\n",
      "    71\t\tTatu <tsaloranta@gmail.com>\n",
      "    52\t\tTatu Saloranta <tsaloranta@salesforce.com>\n",
      "    52\t\tTatu Saloranta <tsaloranta@salesforce.com>\n",
      "    28\t\tjackphel <jackphel@gmail.com>\n",
      "    21\t\tPascal Gélinas <pascal.gelinas@nuecho.com>\n",
      "     2\t\tLokeshN <nlokesh.17@gmail.com>\n",
      "     1\t\tTatu Saloranta <tatu@Tatus-Mac-mini.local>\n",
      "     1\t\tTatu Saloranta <tatu@Tatus-Mac-mini.local>\n",
      "     1\t\tLokeshN <ln@vmware.com>\n"
     ]
    }
   ],
   "source": [
    "all_developers = repo.git.shortlog(\"-sne\", \"--all\").splitlines()\n",
    "\n",
    "author_commits = []\n",
    "identifiedDev = []\n",
    "for file in stats.files:   \n",
    "    #print(\"File: \"+file) \n",
    "    log_data = repo.git.log(fixing_commit,\"--pretty=format:%an\", \"--follow\", \"--\",file).splitlines()\n",
    "    x = np.array(log_data) \n",
    "    uniqueNames = np.unique(x)\n",
    "    #print(\"Contributors: \")\n",
    "    for name in uniqueNames:\n",
    "        identifiedDev.append(name) \n",
    "dev = list(set(identifiedDev))\n",
    "print(\"commitTimes\"+\"\\t\\t\"+\"author\")\n",
    "for developer in all_developers:\n",
    "    #print(developer)\n",
    "    commitTimes, author = developer.split(\"\\t\")\n",
    "    for tem in dev:\n",
    "        if tem in author:\n",
    "            print(commitTimes+\"\\t\\t\"+author)\n"
   ]
  },
  {
   "cell_type": "markdown",
   "metadata": {},
   "source": [
    "## 2. apache/cxf\n",
    "CVE-ID - CVE-2012-1621<br/>\n",
    "Project Link:https://github.com/apache/cxf<br/>\n",
    "Commit:9deb2d17"
   ]
  },
  {
   "cell_type": "markdown",
   "metadata": {},
   "source": [
    "### a) What was the message and title of the fixing commit? "
   ]
  },
  {
   "cell_type": "code",
   "execution_count": 62,
   "metadata": {},
   "outputs": [
    {
     "name": "stdout",
     "output_type": "stream",
     "text": [
      "Commit Title:\u001b[0m    Letting CXF StaxUtils prepare XMLStreamReader for Atom reads\n",
      "Commit Message:\u001b[0m\n"
     ]
    }
   ],
   "source": [
    "import pprint as pprint\n",
    "remote_link = \"https://github.com/apache/cxf\"\n",
    "local_link = \"cxf\"\n",
    "fixing_commit = \"9deb2d17\"\n",
    "\n",
    "repo = Repo(local_link)\n",
    "show_data = repo.git.show(\"--shortstat\", fixing_commit).splitlines()\n",
    "print(\"Commit Title:\"+'\\x1b[0m'+show_data[4])\n",
    "print(\"Commit Message:\"+'\\x1b[0m'+show_data[5])"
   ]
  },
  {
   "cell_type": "markdown",
   "metadata": {},
   "source": [
    "### b) How many total files were affected in the fixing commit?"
   ]
  },
  {
   "cell_type": "code",
   "execution_count": 64,
   "metadata": {},
   "outputs": [
    {
     "name": "stdout",
     "output_type": "stream",
     "text": [
      "Affected Files:2\n"
     ]
    }
   ],
   "source": [
    "commit = repo.commit(fixing_commit)\n",
    "stats = commit.stats\n",
    "\n",
    "print(\"Affected Files:\"+ str(stats.total[\"files\"]))"
   ]
  },
  {
   "cell_type": "markdown",
   "metadata": {},
   "source": [
    "### c) How many total directories were affected in the fixing commit? "
   ]
  },
  {
   "cell_type": "code",
   "execution_count": 65,
   "metadata": {},
   "outputs": [
    {
     "name": "stdout",
     "output_type": "stream",
     "text": [
      "2 Directories affected: \n",
      "rt/rs/extensions/providers/src/main/java/org/apache/cxf/jaxrs/provider/atom/\n",
      "rt/rs/extensions/providers/src/test/java/org/apache/cxf/jaxrs/provider/atom/\n"
     ]
    }
   ],
   "source": [
    "totalDirAffected = repo.git.show(\"--dirstat\", fixing_commit).splitlines()\n",
    "affectedDir = []\n",
    "for info in totalDirAffected:\n",
    "    if \"% \" in info:\n",
    "        affectedDir.append(info[info.find(\"% \")+2:])\n",
    "print(len(affectedDir),\"Directories affected: \")\n",
    "for pline in affectedDir:\n",
    "    print(pline)"
   ]
  },
  {
   "cell_type": "markdown",
   "metadata": {},
   "source": [
    "### d) How many total lines of code(including comments and blank lines)  were deleted? "
   ]
  },
  {
   "cell_type": "code",
   "execution_count": 78,
   "metadata": {},
   "outputs": [
    {
     "name": "stdout",
     "output_type": "stream",
     "text": [
      "Deleted lines(including comment and blank lines): 2\n"
     ]
    }
   ],
   "source": [
    "diffData = repo.git.show(\"--stat\", fixing_commit).splitlines()\n",
    "#for line in diffData:\n",
    "#    print(line)\n",
    "print(\"Deleted lines(including comment and blank lines):\"+diffData[8][35:37])\n"
   ]
  },
  {
   "cell_type": "markdown",
   "metadata": {},
   "source": [
    "### e) How many total lines of code(including comments and blank lines)  were added? "
   ]
  },
  {
   "cell_type": "code",
   "execution_count": 86,
   "metadata": {},
   "outputs": [
    {
     "name": "stdout",
     "output_type": "stream",
     "text": [
      "Inserted lines(including comment and blank lines): 41\n"
     ]
    }
   ],
   "source": [
    "diffData = repo.git.show(\"--stat\", fixing_commit).splitlines()\n",
    "#for line in diffData:\n",
    "#    print(line)\n",
    "print(\"Inserted lines(including comment and blank lines):\"+diffData[8][17:20])\n"
   ]
  },
  {
   "cell_type": "markdown",
   "metadata": {},
   "source": [
    "### f) How many total lines of code(excluding comments and blank lines)  were deleted? "
   ]
  },
  {
   "cell_type": "code",
   "execution_count": 87,
   "metadata": {},
   "outputs": [
    {
     "name": "stdout",
     "output_type": "stream",
     "text": [
      "Deleted lines(excluding comments and blank lines):2\n"
     ]
    }
   ],
   "source": [
    "diffData = repo.git.diff(\"-w\",fixing_commit + \"^\", fixing_commit).splitlines()\n",
    "comment = False\n",
    "count = 0\n",
    "for line in diffData:\n",
    "    if(not line[0:3] == '---'):\n",
    "        if(line.find('/*') != -1):\n",
    "            comment = True\n",
    "            continue\n",
    "        elif(line.find('*/') != -1):\n",
    "            comment = False\n",
    "            continue\n",
    "        if(comment==False):\n",
    "            if(line[0:1] == '-' and not re.search(r'\\s', line) is None):\n",
    "                if(line.find('//') == -1):\n",
    "                    count=count+1\n",
    "print(\"Deleted lines(excluding comments and blank lines):\"+ str(count))"
   ]
  },
  {
   "cell_type": "markdown",
   "metadata": {},
   "source": [
    "### g) How many total lines of code(excluding comments and blank lines)  were added?"
   ]
  },
  {
   "cell_type": "code",
   "execution_count": 88,
   "metadata": {},
   "outputs": [
    {
     "name": "stdout",
     "output_type": "stream",
     "text": [
      "Inserted lines(excluding comments and blank lines):39\n"
     ]
    }
   ],
   "source": [
    "diffData = repo.git.diff(\"-w\",fixing_commit + \"^\", fixing_commit).splitlines()\n",
    "comment = False\n",
    "count = 0\n",
    "for line in diffData:\n",
    "    if(not line[0:3] == '+++'):\n",
    "        if(line.find('/*') != -1):\n",
    "            comment = True\n",
    "            continue\n",
    "        elif(line.find('*/') != -1):\n",
    "            comment = False\n",
    "            continue\n",
    "        if(comment==False):\n",
    "            if(line[0:1] == '+' and not re.search(r'\\s', line) is None):\n",
    "                if(line.find('//') == -1):\n",
    "                    count=count+1\n",
    "print(\"Inserted lines(excluding comments and blank lines):\"+ str(count))"
   ]
  },
  {
   "cell_type": "markdown",
   "metadata": {},
   "source": [
    "### h)  How many days were between the current fixing commit and the previous commit of each affected file? "
   ]
  },
  {
   "cell_type": "code",
   "execution_count": 93,
   "metadata": {},
   "outputs": [
    {
     "name": "stdout",
     "output_type": "stream",
     "text": [
      "File: rt/rs/extensions/providers/src/main/java/org/apache/cxf/jaxrs/provider/atom/AbstractAtomProvider.java\n",
      "Current Commit Time: 2016-11-23 14:27:36+00:00\n",
      "Previous Commit Time: 2016-11-22 17:22:36+00:00\n",
      "Time Difference: 21:05:00\n",
      "----------------------\n",
      "File: rt/rs/extensions/providers/src/test/java/org/apache/cxf/jaxrs/provider/atom/AtomPojoProviderTest.java\n",
      "Current Commit Time: 2016-11-23 14:27:36+00:00\n",
      "Previous Commit Time: 2015-11-10 17:19:19+00:00\n",
      "Time Difference: 378 days, 21:08:17\n",
      "----------------------\n"
     ]
    }
   ],
   "source": [
    "from datetime import datetime\n",
    "from datetime import date\n",
    "for file in stats.files:   \n",
    "    print(\"File: \"+file)\n",
    "    log_data = repo.git.log(fixing_commit,file).splitlines()\n",
    "    commitID = 0\n",
    "    date1 = datetime.now()\n",
    "    date2 = datetime.now()\n",
    "    for line in log_data:\n",
    "        if(line[0:8] == \"Date:   \"):\n",
    "            commitID=commitID+1\n",
    "            if(commitID ==1):\n",
    "                date1 = datetime.strptime(line[8:38], '%a %b %d %H:%M:%S %Y %z')\n",
    "                print(\"Current Commit Time: \"+str(date1))\n",
    "                continue\n",
    "            if(commitID ==2):\n",
    "                date2 = datetime.strptime(line[8:38], '%a %b %d %H:%M:%S %Y %z')\n",
    "                print(\"Previous Commit Time: \"+str(date2))\n",
    "                break\n",
    "    if(commitID == 1):\n",
    "        print(\"This file only has one commit.\")\n",
    "        print(\"----------------------\")\n",
    "    else:\n",
    "        print(\"Time Difference: \"+str(date1-date2))\n",
    "        print(\"----------------------\")"
   ]
  },
  {
   "cell_type": "markdown",
   "metadata": {},
   "source": [
    "### i)  How many time has each affected file of the current fixing commit been modified in the past since their creation?  "
   ]
  },
  {
   "cell_type": "code",
   "execution_count": 95,
   "metadata": {},
   "outputs": [
    {
     "name": "stdout",
     "output_type": "stream",
     "text": [
      "File: rt/rs/extensions/providers/src/main/java/org/apache/cxf/jaxrs/provider/atom/AbstractAtomProvider.java\n",
      "Times of modification(including renaming): 8\n",
      "-------------------------------\n",
      "File: rt/rs/extensions/providers/src/test/java/org/apache/cxf/jaxrs/provider/atom/AtomPojoProviderTest.java\n",
      "Times of modification(including renaming): 6\n",
      "-------------------------------\n"
     ]
    }
   ],
   "source": [
    "for file in stats.files:   \n",
    "    print(\"File: \"+file)\n",
    "    log_data = repo.git.log(fixing_commit,\"--pretty=\\\"format:%H%M%S\\\"\", \"--\",file).splitlines()\n",
    "    print(\"Times of modification(including renaming): \"+str(len(log_data)))\n",
    "    print(\"-------------------------------\")"
   ]
  },
  {
   "cell_type": "markdown",
   "metadata": {},
   "source": [
    "### j)  Which developers have modified each affected file since its creation? "
   ]
  },
  {
   "cell_type": "code",
   "execution_count": 97,
   "metadata": {
    "scrolled": true
   },
   "outputs": [
    {
     "name": "stdout",
     "output_type": "stream",
     "text": [
      "File: rt/rs/extensions/providers/src/main/java/org/apache/cxf/jaxrs/provider/atom/AbstractAtomProvider.java\n",
      "Contributors: \n",
      "J. Daniel Kulp\n",
      "Sergey Beryozkin\n",
      "\n",
      "File: rt/rs/extensions/providers/src/test/java/org/apache/cxf/jaxrs/provider/atom/AtomPojoProviderTest.java\n",
      "Contributors: \n",
      "Colm O hEigeartaigh\n",
      "J. Daniel Kulp\n",
      "Sergey Beryozkin\n",
      "\n"
     ]
    }
   ],
   "source": [
    "for file in stats.files:   \n",
    "    print(\"File: \"+file) \n",
    "    log_data = repo.git.log(fixing_commit,\"--pretty=format:%an\", \"--follow\", \"--\",file).splitlines()\n",
    "    x = np.array(log_data) \n",
    "    uniqueNames = np.unique(x)\n",
    "    print(\"Contributors: \")\n",
    "    for name in uniqueNames:\n",
    "        print(name) \n",
    "    print()"
   ]
  },
  {
   "cell_type": "markdown",
   "metadata": {},
   "source": [
    "### k) For each developer identified, how many commits have each of them submitted? From your observation, are the involving developers experienced or new ones or both?"
   ]
  },
  {
   "cell_type": "code",
   "execution_count": 99,
   "metadata": {
    "scrolled": true
   },
   "outputs": [
    {
     "name": "stdout",
     "output_type": "stream",
     "text": [
      "commitTimes\t\tauthor\n",
      "  5173\t\tJ. Daniel Kulp <dkulp@apache.org>\n",
      "  4524\t\tColm O hEigeartaigh <coheigea@apache.org>\n",
      "  3361\t\tSergey Beryozkin <sergeyb@apache.org>\n",
      "  2544\t\tSergey Beryozkin <sberyozkin@gmail.com>\n",
      "  1708\t\tSergey Beryozkin <sberyozkin@talend.com>\n",
      "    41\t\tColm O hEigeartaigh <coheigea@users.noreply.github.com>\n"
     ]
    }
   ],
   "source": [
    "all_developers = repo.git.shortlog(\"-sne\", \"--all\").splitlines()\n",
    "\n",
    "author_commits = []\n",
    "identifiedDev = []\n",
    "for file in stats.files:   \n",
    "    #print(\"File: \"+file) \n",
    "    log_data = repo.git.log(fixing_commit,\"--pretty=format:%an\", \"--follow\", \"--\",file).splitlines()\n",
    "    x = np.array(log_data) \n",
    "    uniqueNames = np.unique(x)\n",
    "    #print(\"Contributors: \")\n",
    "    for name in uniqueNames:\n",
    "        identifiedDev.append(name) \n",
    "dev = list(set(identifiedDev))\n",
    "print(\"commitTimes\"+\"\\t\\t\"+\"author\")\n",
    "for developer in all_developers:\n",
    "    #print(developer)\n",
    "    commitTimes, author = developer.split(\"\\t\")\n",
    "    for tem in dev:\n",
    "        if tem in author:\n",
    "            print(commitTimes+\"\\t\\t\"+author)\n"
   ]
  },
  {
   "cell_type": "code",
   "execution_count": null,
   "metadata": {},
   "outputs": [],
   "source": []
  }
 ],
 "metadata": {
  "kernelspec": {
   "display_name": "Python 3",
   "language": "python",
   "name": "python3"
  },
  "language_info": {
   "codemirror_mode": {
    "name": "ipython",
    "version": 3
   },
   "file_extension": ".py",
   "mimetype": "text/x-python",
   "name": "python",
   "nbconvert_exporter": "python",
   "pygments_lexer": "ipython3",
   "version": "3.7.4"
  }
 },
 "nbformat": 4,
 "nbformat_minor": 2
}
