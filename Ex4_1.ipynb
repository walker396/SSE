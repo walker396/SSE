{
 "cells": [
  {
   "cell_type": "markdown",
   "metadata": {},
   "source": [
    "# Secure Software Engineering Exercise 2"
   ]
  },
  {
   "cell_type": "code",
   "execution_count": 1,
   "metadata": {},
   "outputs": [],
   "source": [
    "import numpy as np\n",
    "import pandas as pd\n",
    "import os\n",
    "\n",
    "# Specify git executable file for GitPython in Jupyter Notebook (In IDE, it can still work without this line.)\n",
    "# os.environ[\"GIT_PYTHON_GIT_EXECUTABLE\"] = \"C:\\Program Files\\Git\\cmd\\git.exe\"\n",
    "\n",
    "import git\n",
    "import re\n",
    "# from git import RemoteProgress\n",
    "\n",
    "from git import Repo\n",
    "import matplotlib.pyplot as plt\n",
    "import seaborn as sns\n",
    "%matplotlib inline"
   ]
  },
  {
   "cell_type": "markdown",
   "metadata": {},
   "source": [
    "## 1. eclipse-ee4j/mojarra\n",
    "CVE-ID - CVE-2018-14371<br/>\n",
    "Project Link:https://github.com/eclipse-ee4j/mojarra<br/>\n",
    "Commit:1b434748d9239f42eae8aa7d37d7a0930c061e24"
   ]
  },
  {
   "cell_type": "markdown",
   "metadata": {},
   "source": [
    "### a) What was the message and title of the fixing commit? "
   ]
  },
  {
   "cell_type": "code",
   "execution_count": 3,
   "metadata": {},
   "outputs": [
    {
     "name": "stdout",
     "output_type": "stream",
     "text": [
      "Commit Title:\u001b[0m    fixing CTS failure issue in master branch\n",
      "Commit Message:\n",
      " 2 files changed, 5 insertions(+), 1 deletion(-)\n"
     ]
    }
   ],
   "source": [
    "import pprint as pprint\n",
    "remote_link = \"https://github.com/eclipse-ee4j/mojarra\"\n",
    "local_link = \"mojarra\"\n",
    "fixing_commit = \"1b434748d9239f42eae8aa7d37d7a0930c061e24\"\n",
    "\n",
    "repo = Repo(local_link)\n",
    "show_data = repo.git.show(\"--shortstat\", fixing_commit).splitlines()\n",
    "commit = repo.commit(fixing_commit)\n",
    "print(\"Commit Title:\"+'\\x1b[0m'+show_data[4])\n",
    "print(\"Commit Message:\")\n",
    "for index in range(len(show_data)):\n",
    "    if index>5 and index<19:\n",
    "        print(show_data[index])"
   ]
  },
  {
   "cell_type": "markdown",
   "metadata": {},
   "source": [
    "### b) How many total files were affected in the fixing commit?"
   ]
  },
  {
   "cell_type": "code",
   "execution_count": 4,
   "metadata": {},
   "outputs": [
    {
     "name": "stdout",
     "output_type": "stream",
     "text": [
      "Affected Files:2\n"
     ]
    }
   ],
   "source": [
    "stats = commit.stats\n",
    "\n",
    "print(\"Affected Files:\"+ str(stats.total[\"files\"]))"
   ]
  },
  {
   "cell_type": "markdown",
   "metadata": {},
   "source": [
    "### c) How many total directories were affected in the fixing commit? "
   ]
  },
  {
   "cell_type": "code",
   "execution_count": 5,
   "metadata": {},
   "outputs": [
    {
     "name": "stdout",
     "output_type": "stream",
     "text": [
      "2 Directories affected: \n",
      "impl/src/main/java/com/sun/faces/application/applicationimpl/\n",
      "impl/src/main/java/com/sun/faces/application/resource/\n"
     ]
    }
   ],
   "source": [
    "totalDirAffected = repo.git.show(\"--dirstat\", fixing_commit).splitlines()\n",
    "affectedDir = []\n",
    "for info in totalDirAffected:\n",
    "    if \"% \" in info:\n",
    "        affectedDir.append(info[info.find(\"% \")+2:])\n",
    "print(len(affectedDir),\"Directories affected: \")\n",
    "for pline in affectedDir:\n",
    "    print(pline)"
   ]
  },
  {
   "cell_type": "markdown",
   "metadata": {},
   "source": [
    "### d) How many total lines of code(including comments and blank lines)  were deleted? "
   ]
  },
  {
   "cell_type": "code",
   "execution_count": 19,
   "metadata": {},
   "outputs": [
    {
     "name": "stdout",
     "output_type": "stream",
     "text": [
      "Deleted lines(including comment and blank lines):1 deletion(-)\n"
     ]
    }
   ],
   "source": [
    "diffData = repo.git.show(\"--stat\", fixing_commit).splitlines()\n",
    "#for line in diffData:\n",
    "#    print(line)\n",
    "print(\"Deleted lines(including comment and blank lines):\"+diffData[8][35:48])\n"
   ]
  },
  {
   "cell_type": "markdown",
   "metadata": {},
   "source": [
    "### e) How many total lines of code(including comments and blank lines)  were added? "
   ]
  },
  {
   "cell_type": "code",
   "execution_count": 24,
   "metadata": {},
   "outputs": [
    {
     "name": "stdout",
     "output_type": "stream",
     "text": [
      "Inserted lines(including comment and blank lines):5 insertions(+),\n"
     ]
    }
   ],
   "source": [
    "diffData = repo.git.show(\"--stat\", fixing_commit).splitlines()\n",
    "#for line in diffData:\n",
    "#    print(line)\n",
    "print(\"Inserted lines(including comment and blank lines):\"+diffData[8][18:34])"
   ]
  },
  {
   "cell_type": "markdown",
   "metadata": {},
   "source": [
    "### f) How many total lines of code(excluding comments and blank lines)  were deleted? "
   ]
  },
  {
   "cell_type": "code",
   "execution_count": 25,
   "metadata": {},
   "outputs": [
    {
     "name": "stdout",
     "output_type": "stream",
     "text": [
      "Deleted lines(excluding comments and blank lines):1\n"
     ]
    }
   ],
   "source": [
    "diffData = repo.git.diff(\"-w\",fixing_commit + \"^\", fixing_commit).splitlines()\n",
    "comment = False\n",
    "count = 0\n",
    "for line in diffData:\n",
    "    if(not line[0:3] == '---'):\n",
    "        if(line.find('/*') != -1):\n",
    "            comment = True\n",
    "            continue\n",
    "        elif(line.find('*/') != -1):\n",
    "            comment = False\n",
    "            continue\n",
    "        if(comment==False):\n",
    "            if(line[0:1] == '-' and not re.search(r'\\s', line) is None):\n",
    "                if(line.find('//') == -1):\n",
    "                    count=count+1\n",
    "print(\"Deleted lines(excluding comments and blank lines):\"+ str(count))"
   ]
  },
  {
   "cell_type": "markdown",
   "metadata": {},
   "source": [
    "### g) How many total lines of code(excluding comments and blank lines)  were added?"
   ]
  },
  {
   "cell_type": "code",
   "execution_count": 26,
   "metadata": {},
   "outputs": [
    {
     "name": "stdout",
     "output_type": "stream",
     "text": [
      "Inserted lines(excluding comments and blank lines):5\n"
     ]
    }
   ],
   "source": [
    "diffData = repo.git.diff(\"-w\",fixing_commit + \"^\", fixing_commit).splitlines()\n",
    "comment = False\n",
    "count = 0\n",
    "for line in diffData:\n",
    "    if(not line[0:3] == '+++'):\n",
    "        if(line.find('/*') != -1):\n",
    "            comment = True\n",
    "            continue\n",
    "        elif(line.find('*/') != -1):\n",
    "            comment = False\n",
    "            continue\n",
    "        if(comment==False):\n",
    "            if(line[0:1] == '+' and not re.search(r'\\s', line) is None):\n",
    "                if(line.find('//') == -1):\n",
    "                    count=count+1\n",
    "print(\"Inserted lines(excluding comments and blank lines):\"+ str(count))"
   ]
  },
  {
   "cell_type": "markdown",
   "metadata": {},
   "source": [
    "### h)  How many days were between the current fixing commit and the previous commit of each affected file? "
   ]
  },
  {
   "cell_type": "code",
   "execution_count": 36,
   "metadata": {
    "scrolled": true
   },
   "outputs": [
    {
     "name": "stdout",
     "output_type": "stream",
     "text": [
      "File: impl/src/main/java/com/sun/faces/application/applicationimpl/InstanceFactory.java\n",
      "Current Commit Time: 2019-10-23 20:57:57.149972\n",
      "Previous Commit Time: 2019-10-23 20:57:57.150091\n",
      "Time Difference: -1 day, 23:59:59.999881\n",
      "----------------------\n",
      "File: impl/src/main/java/com/sun/faces/application/resource/ResourceManager.java\n",
      "Current Commit Time: 2019-10-23 20:57:57.166638\n",
      "Previous Commit Time: 2019-10-23 20:57:57.166709\n",
      "Time Difference: -1 day, 23:59:59.999929\n",
      "----------------------\n"
     ]
    }
   ],
   "source": [
    "from datetime import datetime\n",
    "from datetime import date\n",
    "\n",
    "for file in stats.files:   \n",
    "    print(\"File: \"+file)\n",
    "    log_data = repo.git.log(fixing_commit,file).splitlines()\n",
    "    commitID = 0\n",
    "    date1 = datetime.now()\n",
    "    date2 = datetime.now()\n",
    "    for line in log_data:\n",
    "        #print(line)\n",
    "        if(line[0:8] == \"Date:   \"):\n",
    "            commitID=commitID+1\n",
    "            if(commitID ==1):\n",
    "                #date1 = datetime.strptime(line[8:31], '%a %b %d %H:%M:%S %Y')\n",
    "                print(\"Current Commit Time: \"+str(date1))\n",
    "                continue\n",
    "            if(commitID ==2):\n",
    "                #date2 = datetime.strptime(line[8:31], '%a %b %d %H:%M:%S %Y')\n",
    "                print(\"Previous Commit Time: \"+str(date2))\n",
    "                break\n",
    "    if(commitID == 1):\n",
    "        print(\"This file only has one commit.\")\n",
    "        print(\"----------------------\")\n",
    "    else:\n",
    "        print(\"Time Difference: \"+str(date1-date2))\n",
    "        print(\"----------------------\")"
   ]
  },
  {
   "cell_type": "markdown",
   "metadata": {},
   "source": [
    "### i)  How many time has each affected file of the current fixing commit been modified in the past since their creation?  "
   ]
  },
  {
   "cell_type": "code",
   "execution_count": 37,
   "metadata": {},
   "outputs": [
    {
     "name": "stdout",
     "output_type": "stream",
     "text": [
      "File: impl/src/main/java/com/sun/faces/application/applicationimpl/InstanceFactory.java\n",
      "Times of modification(including renaming): 2\n",
      "-------------------------------\n",
      "File: impl/src/main/java/com/sun/faces/application/resource/ResourceManager.java\n",
      "Times of modification(including renaming): 2\n",
      "-------------------------------\n"
     ]
    }
   ],
   "source": [
    "for file in stats.files:   \n",
    "    print(\"File: \"+file)\n",
    "    log_data = repo.git.log(fixing_commit,\"--pretty=\\\"format:%H%M%S\\\"\", \"--\",file).splitlines()\n",
    "    print(\"Times of modification(including renaming): \"+str(len(log_data)))\n",
    "    print(\"-------------------------------\")"
   ]
  },
  {
   "cell_type": "markdown",
   "metadata": {},
   "source": [
    "### j)  Which developers have modified each affected file since its creation? "
   ]
  },
  {
   "cell_type": "code",
   "execution_count": 38,
   "metadata": {
    "scrolled": true
   },
   "outputs": [
    {
     "name": "stdout",
     "output_type": "stream",
     "text": [
      "File: impl/src/main/java/com/sun/faces/application/applicationimpl/InstanceFactory.java\n",
      "Contributors: \n",
      "Zhijun Ren\n",
      "\n",
      "File: impl/src/main/java/com/sun/faces/application/resource/ResourceManager.java\n",
      "Contributors: \n",
      "Zhijun Ren\n",
      "\n"
     ]
    }
   ],
   "source": [
    "for file in stats.files:   \n",
    "    print(\"File: \"+file) \n",
    "    log_data = repo.git.log(fixing_commit,\"--pretty=format:%an\", \"--follow\", \"--\",file).splitlines()\n",
    "    x = np.array(log_data) \n",
    "    uniqueNames = np.unique(x)\n",
    "    print(\"Contributors: \")\n",
    "    for name in uniqueNames:\n",
    "        print(name) \n",
    "    print()"
   ]
  },
  {
   "cell_type": "markdown",
   "metadata": {},
   "source": [
    "### k) For each developer identified, how many commits have each of them submitted? From your observation, are the involving developers experienced or new ones or both?"
   ]
  },
  {
   "cell_type": "code",
   "execution_count": 39,
   "metadata": {
    "scrolled": true
   },
   "outputs": [
    {
     "name": "stdout",
     "output_type": "stream",
     "text": [
      "commitTimes\t\tauthor\n",
      "    11\t\tZhijun Ren <ren.zhijun@oracle.com>\n"
     ]
    }
   ],
   "source": [
    "all_developers = repo.git.shortlog(\"-sne\", \"--all\").splitlines()\n",
    "\n",
    "author_commits = []\n",
    "identifiedDev = []\n",
    "for file in stats.files:   \n",
    "    #print(\"File: \"+file) \n",
    "    log_data = repo.git.log(fixing_commit,\"--pretty=format:%an\", \"--follow\", \"--\",file).splitlines()\n",
    "    x = np.array(log_data) \n",
    "    uniqueNames = np.unique(x)\n",
    "    #print(\"Contributors: \")\n",
    "    for name in uniqueNames:\n",
    "        identifiedDev.append(name) \n",
    "dev = list(set(identifiedDev))\n",
    "print(\"commitTimes\"+\"\\t\\t\"+\"author\")\n",
    "for developer in all_developers:\n",
    "    #print(developer)\n",
    "    commitTimes, author = developer.split(\"\\t\")\n",
    "    for tem in dev:\n",
    "        if tem in author:\n",
    "            print(commitTimes+\"\\t\\t\"+author)\n"
   ]
  },
  {
   "cell_type": "markdown",
   "metadata": {},
   "source": [
    "## 2. apache/struts\n",
    "CVE-ID - CVE-2014-0113<br/>\n",
    "Project Link:  https://github.com/apache/struts<br/>\n",
    "Commit:  74e26830d2849a84729b33497f729e0f033dc147"
   ]
  },
  {
   "cell_type": "markdown",
   "metadata": {},
   "source": [
    "### a) What was the message and title of the fixing commit? "
   ]
  },
  {
   "cell_type": "code",
   "execution_count": 76,
   "metadata": {},
   "outputs": [
    {
     "name": "stdout",
     "output_type": "stream",
     "text": [
      "Commit Title:    Adds additional pattern to prevent access to getClass method\n",
      "Commit Message: 2 files changed, 7 insertions(+), 3 deletions(-)\n"
     ]
    }
   ],
   "source": [
    "import pprint as pprint\n",
    "remote_link = \"https://github.com/apache/struts\"\n",
    "local_link = \"struts\"\n",
    "fixing_commit = \"74e26830d2849a84729b33497f729e0f033dc147\"\n",
    "\n",
    "repo = Repo(local_link)\n",
    "show_data = repo.git.show(\"--shortstat\", fixing_commit).splitlines()\n",
    "commit = repo.commit(fixing_commit)\n",
    "print(\"Commit Title:\"+show_data[4])\n",
    "print(\"Commit Message:\"+show_data[6])"
   ]
  },
  {
   "cell_type": "markdown",
   "metadata": {},
   "source": [
    "### b) How many total files were affected in the fixing commit?"
   ]
  },
  {
   "cell_type": "code",
   "execution_count": 41,
   "metadata": {},
   "outputs": [
    {
     "name": "stdout",
     "output_type": "stream",
     "text": [
      "Affected Files:2\n"
     ]
    }
   ],
   "source": [
    "commit = repo.commit(fixing_commit)\n",
    "stats = commit.stats\n",
    "\n",
    "print(\"Affected Files:\"+ str(stats.total[\"files\"]))"
   ]
  },
  {
   "cell_type": "markdown",
   "metadata": {},
   "source": [
    "### c) How many total directories were affected in the fixing commit? "
   ]
  },
  {
   "cell_type": "code",
   "execution_count": 42,
   "metadata": {},
   "outputs": [
    {
     "name": "stdout",
     "output_type": "stream",
     "text": [
      "2 Directories affected: \n",
      "core/src/main/java/com/opensymphony/xwork2/security/\n",
      "core/src/test/java/com/opensymphony/xwork2/interceptor/\n"
     ]
    }
   ],
   "source": [
    "totalDirAffected = repo.git.show(\"--dirstat\", fixing_commit).splitlines()\n",
    "affectedDir = []\n",
    "for info in totalDirAffected:\n",
    "    if \"% \" in info:\n",
    "        affectedDir.append(info[info.find(\"% \")+2:])\n",
    "print(len(affectedDir),\"Directories affected: \")\n",
    "for pline in affectedDir:\n",
    "    print(pline)"
   ]
  },
  {
   "cell_type": "markdown",
   "metadata": {},
   "source": [
    "### d) How many total lines of code(including comments and blank lines)  were deleted? "
   ]
  },
  {
   "cell_type": "code",
   "execution_count": 52,
   "metadata": {},
   "outputs": [
    {
     "name": "stdout",
     "output_type": "stream",
     "text": [
      "commit 74e26830d2849a84729b33497f729e0f033dc147\n",
      "Author: Lukasz Lenart <lukaszlenart@apache.org>\n",
      "Date:   Sun Jan 10 11:46:46 2016 +0100\n",
      "\n",
      "    Adds additional pattern to prevent access to getClass method\n",
      "\n",
      " .../xwork2/security/DefaultExcludedPatternsChecker.java          | 1 +\n",
      " .../xwork2/interceptor/ParametersInterceptorTest.java            | 9 ++++++---\n",
      " 2 files changed, 7 insertions(+), 3 deletions(-)\n",
      "Deleted lines(including comment and blank lines): 3 deletions(-)\n"
     ]
    }
   ],
   "source": [
    "diffData = repo.git.show(\"--stat\", fixing_commit).splitlines()\n",
    "for line in diffData:\n",
    "    print(line)\n",
    "print(\"Deleted lines(including comment and blank lines):\"+diffData[8][34:58])\n"
   ]
  },
  {
   "cell_type": "markdown",
   "metadata": {},
   "source": [
    "### e) How many total lines of code(including comments and blank lines)  were added? "
   ]
  },
  {
   "cell_type": "code",
   "execution_count": 57,
   "metadata": {},
   "outputs": [
    {
     "name": "stdout",
     "output_type": "stream",
     "text": [
      "commit 74e26830d2849a84729b33497f729e0f033dc147\n",
      "Author: Lukasz Lenart <lukaszlenart@apache.org>\n",
      "Date:   Sun Jan 10 11:46:46 2016 +0100\n",
      "\n",
      "    Adds additional pattern to prevent access to getClass method\n",
      "\n",
      " .../xwork2/security/DefaultExcludedPatternsChecker.java          | 1 +\n",
      " .../xwork2/interceptor/ParametersInterceptorTest.java            | 9 ++++++---\n",
      " 2 files changed, 7 insertions(+), 3 deletions(-)\n",
      "Inserted lines(including comment and blank lines): 7 insertions\n"
     ]
    }
   ],
   "source": [
    "diffData = repo.git.show(\"--stat\", fixing_commit).splitlines()\n",
    "for line in diffData:\n",
    "    print(line)\n",
    "print(\"Inserted lines(including comment and blank lines):\"+diffData[8][17:30])"
   ]
  },
  {
   "cell_type": "markdown",
   "metadata": {},
   "source": [
    "### f) How many total lines of code(excluding comments and blank lines)  were deleted? "
   ]
  },
  {
   "cell_type": "code",
   "execution_count": 58,
   "metadata": {},
   "outputs": [
    {
     "name": "stdout",
     "output_type": "stream",
     "text": [
      "Deleted lines(excluding comments and blank lines):3\n"
     ]
    }
   ],
   "source": [
    "diffData = repo.git.diff(\"-w\",fixing_commit + \"^\", fixing_commit).splitlines()\n",
    "comment = False\n",
    "count = 0\n",
    "for line in diffData:\n",
    "    if(not line[0:3] == '---'):\n",
    "        if(line.find('/*') != -1):\n",
    "            comment = True\n",
    "            continue\n",
    "        elif(line.find('*/') != -1):\n",
    "            comment = False\n",
    "            continue\n",
    "        if(comment==False):\n",
    "            if(line[0:1] == '-' and not re.search(r'\\s', line) is None):\n",
    "                if(line.find('//') == -1):\n",
    "                    count=count+1\n",
    "print(\"Deleted lines(excluding comments and blank lines):\"+ str(count))"
   ]
  },
  {
   "cell_type": "markdown",
   "metadata": {},
   "source": [
    "### g) How many total lines of code(excluding comments and blank lines)  were added?"
   ]
  },
  {
   "cell_type": "code",
   "execution_count": 59,
   "metadata": {},
   "outputs": [
    {
     "name": "stdout",
     "output_type": "stream",
     "text": [
      "Inserted lines(excluding comments and blank lines):7\n"
     ]
    }
   ],
   "source": [
    "diffData = repo.git.diff(\"-w\",fixing_commit + \"^\", fixing_commit).splitlines()\n",
    "comment = False\n",
    "count = 0\n",
    "for line in diffData:\n",
    "    if(not line[0:3] == '+++'):\n",
    "        if(line.find('/*') != -1):\n",
    "            comment = True\n",
    "            continue\n",
    "        elif(line.find('*/') != -1):\n",
    "            comment = False\n",
    "            continue\n",
    "        if(comment==False):\n",
    "            if(line[0:1] == '+' and not re.search(r'\\s', line) is None):\n",
    "                if(line.find('//') == -1):\n",
    "                    count=count+1\n",
    "print(\"Inserted lines(excluding comments and blank lines):\"+ str(count))"
   ]
  },
  {
   "cell_type": "markdown",
   "metadata": {},
   "source": [
    "### h)  How many days were between the current fixing commit and the previous commit of each affected file? "
   ]
  },
  {
   "cell_type": "code",
   "execution_count": 60,
   "metadata": {},
   "outputs": [
    {
     "name": "stdout",
     "output_type": "stream",
     "text": [
      "File: core/src/main/java/com/opensymphony/xwork2/security/DefaultExcludedPatternsChecker.java\n",
      "Current Commit Time: 2016-01-10 11:46:46+01:00\n",
      "Previous Commit Time: 2015-09-23 08:42:01+02:00\n",
      "Time Difference: 109 days, 4:04:45\n",
      "----------------------\n",
      "File: core/src/test/java/com/opensymphony/xwork2/interceptor/ParametersInterceptorTest.java\n",
      "Current Commit Time: 2016-01-10 11:46:46+01:00\n",
      "Previous Commit Time: 2015-09-23 08:42:01+02:00\n",
      "Time Difference: 109 days, 4:04:45\n",
      "----------------------\n"
     ]
    }
   ],
   "source": [
    "from datetime import datetime\n",
    "from datetime import date\n",
    "for file in stats.files:   \n",
    "    print(\"File: \"+file)\n",
    "    log_data = repo.git.log(fixing_commit,file).splitlines()\n",
    "    commitID = 0\n",
    "    date1 = datetime.now()\n",
    "    date2 = datetime.now()\n",
    "    for line in log_data:\n",
    "        if(line[0:8] == \"Date:   \"):\n",
    "            commitID=commitID+1\n",
    "            if(commitID ==1):\n",
    "                date1 = datetime.strptime(line[8:38], '%a %b %d %H:%M:%S %Y %z')\n",
    "                print(\"Current Commit Time: \"+str(date1))\n",
    "                continue\n",
    "            if(commitID ==2):\n",
    "                date2 = datetime.strptime(line[8:38], '%a %b %d %H:%M:%S %Y %z')\n",
    "                print(\"Previous Commit Time: \"+str(date2))\n",
    "                break\n",
    "    if(commitID == 1):\n",
    "        print(\"This file only has one commit.\")\n",
    "        print(\"----------------------\")\n",
    "    else:\n",
    "        print(\"Time Difference: \"+str(date1-date2))\n",
    "        print(\"----------------------\")"
   ]
  },
  {
   "cell_type": "markdown",
   "metadata": {},
   "source": [
    "### i)  How many time has each affected file of the current fixing commit been modified in the past since their creation?  "
   ]
  },
  {
   "cell_type": "code",
   "execution_count": 61,
   "metadata": {},
   "outputs": [
    {
     "name": "stdout",
     "output_type": "stream",
     "text": [
      "File: core/src/main/java/com/opensymphony/xwork2/security/DefaultExcludedPatternsChecker.java\n",
      "Times of modification(including renaming): 3\n",
      "-------------------------------\n",
      "File: core/src/test/java/com/opensymphony/xwork2/interceptor/ParametersInterceptorTest.java\n",
      "Times of modification(including renaming): 3\n",
      "-------------------------------\n"
     ]
    }
   ],
   "source": [
    "for file in stats.files:   \n",
    "    print(\"File: \"+file)\n",
    "    log_data = repo.git.log(fixing_commit,\"--pretty=\\\"format:%H%M%S\\\"\", \"--\",file).splitlines()\n",
    "    print(\"Times of modification(including renaming): \"+str(len(log_data)))\n",
    "    print(\"-------------------------------\")"
   ]
  },
  {
   "cell_type": "markdown",
   "metadata": {},
   "source": [
    "### j)  Which developers have modified each affected file since its creation? "
   ]
  },
  {
   "cell_type": "code",
   "execution_count": 62,
   "metadata": {
    "scrolled": true
   },
   "outputs": [
    {
     "name": "stdout",
     "output_type": "stream",
     "text": [
      "File: core/src/main/java/com/opensymphony/xwork2/security/DefaultExcludedPatternsChecker.java\n",
      "Contributors: \n",
      "Johannes Geppert\n",
      "Lukasz Lenart\n",
      "\n",
      "File: core/src/test/java/com/opensymphony/xwork2/interceptor/ParametersInterceptorTest.java\n",
      "Contributors: \n",
      "Johannes Geppert\n",
      "John Lindal\n",
      "Lukasz Lenart\n",
      "Maurizio Cucchiara\n",
      "René Gielen\n",
      "\n"
     ]
    }
   ],
   "source": [
    "for file in stats.files:   \n",
    "    print(\"File: \"+file) \n",
    "    log_data = repo.git.log(fixing_commit,\"--pretty=format:%an\", \"--follow\", \"--\",file).splitlines()\n",
    "    x = np.array(log_data) \n",
    "    uniqueNames = np.unique(x)\n",
    "    print(\"Contributors: \")\n",
    "    for name in uniqueNames:\n",
    "        print(name) \n",
    "    print()"
   ]
  },
  {
   "cell_type": "markdown",
   "metadata": {},
   "source": [
    "### k) For each developer identified, how many commits have each of them submitted? From your observation, are the involving developers experienced or new ones or both?"
   ]
  },
  {
   "cell_type": "code",
   "execution_count": 63,
   "metadata": {
    "scrolled": true
   },
   "outputs": [
    {
     "name": "stdout",
     "output_type": "stream",
     "text": [
      "commitTimes\t\tauthor\n",
      "  2224\t\tLukasz Lenart <lukaszlenart@apache.org>\n",
      "   241\t\tLukasz Lenart <lukasz.lenart@gmail.com>\n",
      "   189\t\tRené Gielen <rgielen@apache.org>\n",
      "   115\t\tMaurizio Cucchiara <mcucchiara@apache.org>\n",
      "   103\t\tJohannes Geppert <jogep@apache.org>\n",
      "    49\t\tJohannes Geppert <johgep@gmail.com>\n",
      "    31\t\tJohn Lindal <jafl@apache.org>\n",
      "     3\t\tJohannes Geppert <post@jgeppert.com>\n"
     ]
    }
   ],
   "source": [
    "all_developers = repo.git.shortlog(\"-sne\", \"--all\").splitlines()\n",
    "\n",
    "author_commits = []\n",
    "identifiedDev = []\n",
    "for file in stats.files:   \n",
    "    #print(\"File: \"+file) \n",
    "    log_data = repo.git.log(fixing_commit,\"--pretty=format:%an\", \"--follow\", \"--\",file).splitlines()\n",
    "    x = np.array(log_data) \n",
    "    uniqueNames = np.unique(x)\n",
    "    #print(\"Contributors: \")\n",
    "    for name in uniqueNames:\n",
    "        identifiedDev.append(name) \n",
    "dev = list(set(identifiedDev))\n",
    "print(\"commitTimes\"+\"\\t\\t\"+\"author\")\n",
    "for developer in all_developers:\n",
    "    #print(developer)\n",
    "    commitTimes, author = developer.split(\"\\t\")\n",
    "    for tem in dev:\n",
    "        if tem in author:\n",
    "            print(commitTimes+\"\\t\\t\"+author)\n"
   ]
  },
  {
   "cell_type": "markdown",
   "metadata": {},
   "source": [
    "## 2. jenkinsci/groovy-sandbox\n",
    "CVE-ID - CVE-2018-1000865<br/>\n",
    "Project Link:https://github.com/jenkinsci/groovy-sandbox<br/>\n",
    "Commit:0cd7ec12b7c56cfa3167d99c5f43147ce05449d3"
   ]
  },
  {
   "cell_type": "markdown",
   "metadata": {},
   "source": [
    "### a) What was the message and title of the fixing commit? "
   ]
  },
  {
   "cell_type": "code",
   "execution_count": 77,
   "metadata": {
    "scrolled": true
   },
   "outputs": [
    {
     "name": "stdout",
     "output_type": "stream",
     "text": [
      "Commit Title:\u001b[0m    [SECURITY-1186] Forbid sandboxed classes from overriding finalize.\n",
      "Commit Message:\u001b[0m 2 files changed, 180 insertions(+)\n"
     ]
    }
   ],
   "source": [
    "import pprint as pprint\n",
    "remote_link = \"https://github.com/jenkinsci/groovy-sandbox\"\n",
    "local_link = \"groovy-sandbox\"\n",
    "fixing_commit = \"0cd7ec12b7c56cfa3167d99c5f43147ce05449d3\"\n",
    "\n",
    "repo = Repo(local_link)\n",
    "show_data = repo.git.show(\"--shortstat\", fixing_commit).splitlines()\n",
    "print(\"Commit Title:\"+'\\x1b[0m'+show_data[4])\n",
    "print(\"Commit Message:\"+'\\x1b[0m'+show_data[6])"
   ]
  },
  {
   "cell_type": "markdown",
   "metadata": {},
   "source": [
    "### b) How many total files were affected in the fixing commit?"
   ]
  },
  {
   "cell_type": "code",
   "execution_count": 65,
   "metadata": {},
   "outputs": [
    {
     "name": "stdout",
     "output_type": "stream",
     "text": [
      "Affected Files:2\n"
     ]
    }
   ],
   "source": [
    "commit = repo.commit(fixing_commit)\n",
    "stats = commit.stats\n",
    "\n",
    "print(\"Affected Files:\"+ str(stats.total[\"files\"]))"
   ]
  },
  {
   "cell_type": "markdown",
   "metadata": {},
   "source": [
    "### c) How many total directories were affected in the fixing commit? "
   ]
  },
  {
   "cell_type": "code",
   "execution_count": 66,
   "metadata": {},
   "outputs": [
    {
     "name": "stdout",
     "output_type": "stream",
     "text": [
      "2 Directories affected: \n",
      "src/main/java/org/kohsuke/groovy/sandbox/\n",
      "src/test/java/org/kohsuke/groovy/sandbox/\n"
     ]
    }
   ],
   "source": [
    "totalDirAffected = repo.git.show(\"--dirstat\", fixing_commit).splitlines()\n",
    "affectedDir = []\n",
    "for info in totalDirAffected:\n",
    "    if \"% \" in info:\n",
    "        affectedDir.append(info[info.find(\"% \")+2:])\n",
    "print(len(affectedDir),\"Directories affected: \")\n",
    "for pline in affectedDir:\n",
    "    print(pline)"
   ]
  },
  {
   "cell_type": "markdown",
   "metadata": {},
   "source": [
    "### d) How many total lines of code(including comments and blank lines)  were deleted? "
   ]
  },
  {
   "cell_type": "code",
   "execution_count": 67,
   "metadata": {},
   "outputs": [
    {
     "name": "stdout",
     "output_type": "stream",
     "text": [
      "Deleted lines(including comment and blank lines):\n"
     ]
    }
   ],
   "source": [
    "diffData = repo.git.show(\"--stat\", fixing_commit).splitlines()\n",
    "#for line in diffData:\n",
    "#    print(line)\n",
    "print(\"Deleted lines(including comment and blank lines):\"+diffData[8][35:37])\n"
   ]
  },
  {
   "cell_type": "markdown",
   "metadata": {},
   "source": [
    "### e) How many total lines of code(including comments and blank lines)  were added? "
   ]
  },
  {
   "cell_type": "code",
   "execution_count": 68,
   "metadata": {},
   "outputs": [
    {
     "name": "stdout",
     "output_type": "stream",
     "text": [
      "Inserted lines(including comment and blank lines): 18\n"
     ]
    }
   ],
   "source": [
    "diffData = repo.git.show(\"--stat\", fixing_commit).splitlines()\n",
    "#for line in diffData:\n",
    "#    print(line)\n",
    "print(\"Inserted lines(including comment and blank lines):\"+diffData[8][17:20])\n"
   ]
  },
  {
   "cell_type": "markdown",
   "metadata": {},
   "source": [
    "### f) How many total lines of code(excluding comments and blank lines)  were deleted? "
   ]
  },
  {
   "cell_type": "code",
   "execution_count": 69,
   "metadata": {},
   "outputs": [
    {
     "name": "stdout",
     "output_type": "stream",
     "text": [
      "Deleted lines(excluding comments and blank lines):0\n"
     ]
    }
   ],
   "source": [
    "diffData = repo.git.diff(\"-w\",fixing_commit + \"^\", fixing_commit).splitlines()\n",
    "comment = False\n",
    "count = 0\n",
    "for line in diffData:\n",
    "    if(not line[0:3] == '---'):\n",
    "        if(line.find('/*') != -1):\n",
    "            comment = True\n",
    "            continue\n",
    "        elif(line.find('*/') != -1):\n",
    "            comment = False\n",
    "            continue\n",
    "        if(comment==False):\n",
    "            if(line[0:1] == '-' and not re.search(r'\\s', line) is None):\n",
    "                if(line.find('//') == -1):\n",
    "                    count=count+1\n",
    "print(\"Deleted lines(excluding comments and blank lines):\"+ str(count))"
   ]
  },
  {
   "cell_type": "markdown",
   "metadata": {},
   "source": [
    "### g) How many total lines of code(excluding comments and blank lines)  were added?"
   ]
  },
  {
   "cell_type": "code",
   "execution_count": 70,
   "metadata": {},
   "outputs": [
    {
     "name": "stdout",
     "output_type": "stream",
     "text": [
      "Inserted lines(excluding comments and blank lines):121\n"
     ]
    }
   ],
   "source": [
    "diffData = repo.git.diff(\"-w\",fixing_commit + \"^\", fixing_commit).splitlines()\n",
    "comment = False\n",
    "count = 0\n",
    "for line in diffData:\n",
    "    if(not line[0:3] == '+++'):\n",
    "        if(line.find('/*') != -1):\n",
    "            comment = True\n",
    "            continue\n",
    "        elif(line.find('*/') != -1):\n",
    "            comment = False\n",
    "            continue\n",
    "        if(comment==False):\n",
    "            if(line[0:1] == '+' and not re.search(r'\\s', line) is None):\n",
    "                if(line.find('//') == -1):\n",
    "                    count=count+1\n",
    "print(\"Inserted lines(excluding comments and blank lines):\"+ str(count))"
   ]
  },
  {
   "cell_type": "markdown",
   "metadata": {},
   "source": [
    "### h)  How many days were between the current fixing commit and the previous commit of each affected file? "
   ]
  },
  {
   "cell_type": "code",
   "execution_count": 71,
   "metadata": {},
   "outputs": [
    {
     "name": "stdout",
     "output_type": "stream",
     "text": [
      "File: src/main/java/org/kohsuke/groovy/sandbox/SandboxTransformer.java\n",
      "Current Commit Time: 2018-10-17 20:14:28-04:00\n",
      "Previous Commit Time: 2017-08-16 14:15:44-04:00\n",
      "Time Difference: 427 days, 5:58:44\n",
      "----------------------\n",
      "File: src/test/java/org/kohsuke/groovy/sandbox/FinalizerTest.java\n",
      "Current Commit Time: 2018-10-17 20:14:28-04:00\n",
      "This file only has one commit.\n",
      "----------------------\n"
     ]
    }
   ],
   "source": [
    "from datetime import datetime\n",
    "from datetime import date\n",
    "for file in stats.files:   \n",
    "    print(\"File: \"+file)\n",
    "    log_data = repo.git.log(fixing_commit,file).splitlines()\n",
    "    commitID = 0\n",
    "    date1 = datetime.now()\n",
    "    date2 = datetime.now()\n",
    "    for line in log_data:\n",
    "        if(line[0:8] == \"Date:   \"):\n",
    "            commitID=commitID+1\n",
    "            if(commitID ==1):\n",
    "                date1 = datetime.strptime(line[8:38], '%a %b %d %H:%M:%S %Y %z')\n",
    "                print(\"Current Commit Time: \"+str(date1))\n",
    "                continue\n",
    "            if(commitID ==2):\n",
    "                date2 = datetime.strptime(line[8:38], '%a %b %d %H:%M:%S %Y %z')\n",
    "                print(\"Previous Commit Time: \"+str(date2))\n",
    "                break\n",
    "    if(commitID == 1):\n",
    "        print(\"This file only has one commit.\")\n",
    "        print(\"----------------------\")\n",
    "    else:\n",
    "        print(\"Time Difference: \"+str(date1-date2))\n",
    "        print(\"----------------------\")"
   ]
  },
  {
   "cell_type": "markdown",
   "metadata": {},
   "source": [
    "### i)  How many time has each affected file of the current fixing commit been modified in the past since their creation?  "
   ]
  },
  {
   "cell_type": "code",
   "execution_count": 72,
   "metadata": {},
   "outputs": [
    {
     "name": "stdout",
     "output_type": "stream",
     "text": [
      "File: src/main/java/org/kohsuke/groovy/sandbox/SandboxTransformer.java\n",
      "Times of modification(including renaming): 12\n",
      "-------------------------------\n",
      "File: src/test/java/org/kohsuke/groovy/sandbox/FinalizerTest.java\n",
      "Times of modification(including renaming): 1\n",
      "-------------------------------\n"
     ]
    }
   ],
   "source": [
    "for file in stats.files:   \n",
    "    print(\"File: \"+file)\n",
    "    log_data = repo.git.log(fixing_commit,\"--pretty=\\\"format:%H%M%S\\\"\", \"--\",file).splitlines()\n",
    "    print(\"Times of modification(including renaming): \"+str(len(log_data)))\n",
    "    print(\"-------------------------------\")"
   ]
  },
  {
   "cell_type": "markdown",
   "metadata": {},
   "source": [
    "### j)  Which developers have modified each affected file since its creation? "
   ]
  },
  {
   "cell_type": "code",
   "execution_count": 73,
   "metadata": {
    "scrolled": true
   },
   "outputs": [
    {
     "name": "stdout",
     "output_type": "stream",
     "text": [
      "File: src/main/java/org/kohsuke/groovy/sandbox/SandboxTransformer.java\n",
      "Contributors: \n",
      "Andrew Bayer\n",
      "Devin Nusbaum\n",
      "Jesse Glick\n",
      "Julien Viet\n",
      "Kohsuke Kawaguchi\n",
      "Oliver Gondža\n",
      "\n",
      "File: src/test/java/org/kohsuke/groovy/sandbox/FinalizerTest.java\n",
      "Contributors: \n",
      "Devin Nusbaum\n",
      "\n"
     ]
    }
   ],
   "source": [
    "for file in stats.files:   \n",
    "    print(\"File: \"+file) \n",
    "    log_data = repo.git.log(fixing_commit,\"--pretty=format:%an\", \"--follow\", \"--\",file).splitlines()\n",
    "    x = np.array(log_data) \n",
    "    uniqueNames = np.unique(x)\n",
    "    print(\"Contributors: \")\n",
    "    for name in uniqueNames:\n",
    "        print(name) \n",
    "    print()"
   ]
  },
  {
   "cell_type": "markdown",
   "metadata": {},
   "source": [
    "### k) For each developer identified, how many commits have each of them submitted? From your observation, are the involving developers experienced or new ones or both?"
   ]
  },
  {
   "cell_type": "code",
   "execution_count": 74,
   "metadata": {
    "scrolled": true
   },
   "outputs": [
    {
     "name": "stdout",
     "output_type": "stream",
     "text": [
      "commitTimes\t\tauthor\n",
      "   116\t\tKohsuke Kawaguchi <kk@kohsuke.org>\n",
      "    40\t\tJesse Glick <jglick@cloudbees.com>\n",
      "    29\t\tAndrew Bayer <andrew.bayer@gmail.com>\n",
      "    11\t\tDevin Nusbaum <d.w.nusbaum@gmail.com>\n",
      "     2\t\tJulien Viet <julien@julienviet.com>\n",
      "     1\t\tDevin Nusbaum <dwnusbaum@users.noreply.github.com>\n",
      "     1\t\tOliver Gondža <ogondza@gmail.com>\n"
     ]
    }
   ],
   "source": [
    "all_developers = repo.git.shortlog(\"-sne\", \"--all\").splitlines()\n",
    "\n",
    "author_commits = []\n",
    "identifiedDev = []\n",
    "for file in stats.files:   \n",
    "    #print(\"File: \"+file) \n",
    "    log_data = repo.git.log(fixing_commit,\"--pretty=format:%an\", \"--follow\", \"--\",file).splitlines()\n",
    "    x = np.array(log_data) \n",
    "    uniqueNames = np.unique(x)\n",
    "    #print(\"Contributors: \")\n",
    "    for name in uniqueNames:\n",
    "        identifiedDev.append(name) \n",
    "dev = list(set(identifiedDev))\n",
    "print(\"commitTimes\"+\"\\t\\t\"+\"author\")\n",
    "for developer in all_developers:\n",
    "    #print(developer)\n",
    "    commitTimes, author = developer.split(\"\\t\")\n",
    "    for tem in dev:\n",
    "        if tem in author:\n",
    "            print(commitTimes+\"\\t\\t\"+author)\n"
   ]
  },
  {
   "cell_type": "code",
   "execution_count": null,
   "metadata": {},
   "outputs": [],
   "source": []
  },
  {
   "cell_type": "code",
   "execution_count": null,
   "metadata": {},
   "outputs": [],
   "source": []
  }
 ],
 "metadata": {
  "kernelspec": {
   "display_name": "Python 3",
   "language": "python",
   "name": "python3"
  },
  "language_info": {
   "codemirror_mode": {
    "name": "ipython",
    "version": 3
   },
   "file_extension": ".py",
   "mimetype": "text/x-python",
   "name": "python",
   "nbconvert_exporter": "python",
   "pygments_lexer": "ipython3",
   "version": "3.7.4"
  }
 },
 "nbformat": 4,
 "nbformat_minor": 2
}
